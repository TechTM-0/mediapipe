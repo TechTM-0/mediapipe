{
  "nbformat": 4,
  "nbformat_minor": 0,
  "metadata": {
    "colab": {
      "provenance": [],
      "machine_shape": "hm",
      "gpuType": "A100",
      "authorship_tag": "ABX9TyPNCJXbgsXzXJu431paIaIv",
      "include_colab_link": true
    },
    "kernelspec": {
      "name": "python3",
      "display_name": "Python 3"
    },
    "language_info": {
      "name": "python"
    },
    "accelerator": "GPU"
  },
  "cells": [
    {
      "cell_type": "markdown",
      "metadata": {
        "id": "view-in-github",
        "colab_type": "text"
      },
      "source": [
        "<a href=\"https://colab.research.google.com/github/TechTM-0/mediapipe/blob/main/Mediapipe.ipynb\" target=\"_parent\"><img src=\"https://colab.research.google.com/assets/colab-badge.svg\" alt=\"Open In Colab\"/></a>"
      ]
    },
    {
      "cell_type": "markdown",
      "source": [
        "1.マウントしてColabからGoogleドライブにアクセスできるように設定"
      ],
      "metadata": {
        "id": "GdsNHyO1VJg9"
      }
    },
    {
      "cell_type": "code",
      "source": [
        "from google.colab import drive\n",
        "drive.mount('/content/drive')"
      ],
      "metadata": {
        "colab": {
          "base_uri": "https://localhost:8080/"
        },
        "collapsed": true,
        "id": "hiZgDD1uoW1w",
        "outputId": "9b39a9b0-7f74-4688-f567-f453d75f0d0f"
      },
      "execution_count": null,
      "outputs": [
        {
          "output_type": "stream",
          "name": "stdout",
          "text": [
            "Mounted at /content/drive\n"
          ]
        }
      ]
    },
    {
      "cell_type": "markdown",
      "source": [
        "2.mediapipeインストール"
      ],
      "metadata": {
        "id": "4VPNVQ_Af8Sx"
      }
    },
    {
      "cell_type": "code",
      "source": [
        "!pip install mediapipe"
      ],
      "metadata": {
        "colab": {
          "base_uri": "https://localhost:8080/"
        },
        "id": "qqefOE0tgCS6",
        "outputId": "3a2a1fb7-684f-4d1f-9461-12d9ec6df3ac"
      },
      "execution_count": null,
      "outputs": [
        {
          "output_type": "stream",
          "name": "stdout",
          "text": [
            "Requirement already satisfied: mediapipe in /usr/local/lib/python3.12/dist-packages (0.10.21)\n",
            "Requirement already satisfied: absl-py in /usr/local/lib/python3.12/dist-packages (from mediapipe) (1.4.0)\n",
            "Requirement already satisfied: attrs>=19.1.0 in /usr/local/lib/python3.12/dist-packages (from mediapipe) (25.3.0)\n",
            "Requirement already satisfied: flatbuffers>=2.0 in /usr/local/lib/python3.12/dist-packages (from mediapipe) (25.2.10)\n",
            "Requirement already satisfied: jax in /usr/local/lib/python3.12/dist-packages (from mediapipe) (0.5.3)\n",
            "Requirement already satisfied: jaxlib in /usr/local/lib/python3.12/dist-packages (from mediapipe) (0.5.3)\n",
            "Requirement already satisfied: matplotlib in /usr/local/lib/python3.12/dist-packages (from mediapipe) (3.10.0)\n",
            "Requirement already satisfied: numpy<2 in /usr/local/lib/python3.12/dist-packages (from mediapipe) (1.26.4)\n",
            "Requirement already satisfied: opencv-contrib-python in /usr/local/lib/python3.12/dist-packages (from mediapipe) (4.11.0.86)\n",
            "Requirement already satisfied: protobuf<5,>=4.25.3 in /usr/local/lib/python3.12/dist-packages (from mediapipe) (4.25.8)\n",
            "Requirement already satisfied: sounddevice>=0.4.4 in /usr/local/lib/python3.12/dist-packages (from mediapipe) (0.5.2)\n",
            "Requirement already satisfied: sentencepiece in /usr/local/lib/python3.12/dist-packages (from mediapipe) (0.2.1)\n",
            "Requirement already satisfied: CFFI>=1.0 in /usr/local/lib/python3.12/dist-packages (from sounddevice>=0.4.4->mediapipe) (1.17.1)\n",
            "Requirement already satisfied: ml_dtypes>=0.4.0 in /usr/local/lib/python3.12/dist-packages (from jax->mediapipe) (0.5.3)\n",
            "Requirement already satisfied: opt_einsum in /usr/local/lib/python3.12/dist-packages (from jax->mediapipe) (3.4.0)\n",
            "Requirement already satisfied: scipy>=1.11.1 in /usr/local/lib/python3.12/dist-packages (from jax->mediapipe) (1.16.1)\n",
            "Requirement already satisfied: contourpy>=1.0.1 in /usr/local/lib/python3.12/dist-packages (from matplotlib->mediapipe) (1.3.3)\n",
            "Requirement already satisfied: cycler>=0.10 in /usr/local/lib/python3.12/dist-packages (from matplotlib->mediapipe) (0.12.1)\n",
            "Requirement already satisfied: fonttools>=4.22.0 in /usr/local/lib/python3.12/dist-packages (from matplotlib->mediapipe) (4.59.1)\n",
            "Requirement already satisfied: kiwisolver>=1.3.1 in /usr/local/lib/python3.12/dist-packages (from matplotlib->mediapipe) (1.4.9)\n",
            "Requirement already satisfied: packaging>=20.0 in /usr/local/lib/python3.12/dist-packages (from matplotlib->mediapipe) (25.0)\n",
            "Requirement already satisfied: pillow>=8 in /usr/local/lib/python3.12/dist-packages (from matplotlib->mediapipe) (11.3.0)\n",
            "Requirement already satisfied: pyparsing>=2.3.1 in /usr/local/lib/python3.12/dist-packages (from matplotlib->mediapipe) (3.2.3)\n",
            "Requirement already satisfied: python-dateutil>=2.7 in /usr/local/lib/python3.12/dist-packages (from matplotlib->mediapipe) (2.9.0.post0)\n",
            "Requirement already satisfied: pycparser in /usr/local/lib/python3.12/dist-packages (from CFFI>=1.0->sounddevice>=0.4.4->mediapipe) (2.22)\n",
            "Requirement already satisfied: six>=1.5 in /usr/local/lib/python3.12/dist-packages (from python-dateutil>=2.7->matplotlib->mediapipe) (1.17.0)\n"
          ]
        }
      ]
    },
    {
      "cell_type": "markdown",
      "source": [
        "3.インストール確認"
      ],
      "metadata": {
        "id": "8e50vxYrgneO"
      }
    },
    {
      "cell_type": "code",
      "source": [
        "import mediapipe as mp\n",
        "\n",
        "try:\n",
        "    print(\"MediaPipeのバージョン:\", mp.__version__)\n",
        "    print(\"MediaPipeは正常に動作しています！\")\n",
        "except AttributeError:\n",
        "    print(\"MediaPipeはインポートできましたが、バージョン情報を取得できませんでした。\")\n",
        "except Exception as e:\n",
        "    print(f\"エラーが発生しました: {e}\")"
      ],
      "metadata": {
        "colab": {
          "base_uri": "https://localhost:8080/"
        },
        "collapsed": true,
        "id": "ZMN0_rgcgwa1",
        "outputId": "aacd9c8c-4c3f-4a07-ca46-46934d40553a"
      },
      "execution_count": null,
      "outputs": [
        {
          "output_type": "stream",
          "name": "stdout",
          "text": [
            "MediaPipeのバージョン: 0.10.21\n",
            "MediaPipeは正常に動作しています！\n"
          ]
        }
      ]
    },
    {
      "cell_type": "markdown",
      "source": [
        "4.姿勢推定を行い元動画にランドマークと接続線を描画　<br>\n",
        "　実行前にinput_video_pathとoutput_video_pathを動画ファイルのパスに変更してください。"
      ],
      "metadata": {
        "id": "_g_J3l5WIVyf"
      }
    },
    {
      "cell_type": "code",
      "source": [
        "import cv2\n",
        "import mediapipe as mp\n",
        "import numpy as np\n",
        "\n",
        "# === 入力・出力ファイルの設定 ===\n",
        "# Googleドライブ上のパスを指定\n",
        "input_video_path = '/content/drive/MyDrive/material/material.mp4'\n",
        "\n",
        "# Googleドライブ上のパスを指定\n",
        "output_video_path = '/content/drive/MyDrive/output/hand_pose_cropped.mp4'\n",
        "\n",
        "# === MediaPipe PoseとHandsの準備 ===\n",
        "# ポーズ（骨格）検出用のライブラリをインポート。\n",
        "mp_pose = mp.solutions.pose\n",
        "# 手のランドマーク検出用のライブラリをインポート。\n",
        "mp_hands = mp.solutions.hands\n",
        "# 検出結果を描画するためのユーティリティをインポート。\n",
        "mp_drawing = mp.solutions.drawing_utils\n",
        "\n",
        "# ポーズ（骨格）検出モデルを初期化。\n",
        "# static_image_mode=Falseに設定することで、動画（連続したフレーム）の処理に適したモードになります。\n",
        "pose = mp_pose.Pose(static_image_mode=False)\n",
        "\n",
        "# 手の検出モデルを初期化。\n",
        "# static_image_mode=False：動画（連続したフレーム）モードで動作します。\n",
        "# max_num_hands=2：同時に検出する手の数を最大2つに設定します。\n",
        "# min_detection_confidence=0.3：検出の信頼度をデフォルトの0.5から0.3に下げることで、\n",
        "# 小さく映っている手など、見逃しがちな手も捉えやすくなります。\n",
        "hands = mp_hands.Hands(\n",
        "    static_image_mode=False,\n",
        "    max_num_hands=2,\n",
        "    min_detection_confidence=0.3\n",
        ")\n",
        "\n",
        "# === 動画の読み込みと設定の取得 ===\n",
        "# OpenCVを使って入力動画ファイルを開きます。\n",
        "cap = cv2.VideoCapture(input_video_path)\n",
        "\n",
        "# 動画ファイルが正常に開かれたかを確認します。\n",
        "if not cap.isOpened():\n",
        "    print(f\"エラー: 入力動画 '{input_video_path}' を開けませんでした。\")\n",
        "    exit()\n",
        "\n",
        "# 動画の幅、高さ、フレームレート（fps）を取得します。\n",
        "frame_width = int(cap.get(cv2.CAP_PROP_FRAME_WIDTH))\n",
        "frame_height = int(cap.get(cv2.CAP_PROP_FRAME_HEIGHT))\n",
        "fps = int(cap.get(cv2.CAP_PROP_FPS))\n",
        "\n",
        "# === 出力動画の設定 ===\n",
        "# 出力動画のコーデックを定義します。'mp4v'はMP4形式で広く使われます。\n",
        "fourcc = cv2.VideoWriter_fourcc(*'mp4v')\n",
        "# 出力動画ファイルを作成します。元の動画と同じ設定（幅、高さ、fps）にします。\n",
        "writer = cv2.VideoWriter(output_video_path, fourcc, fps, (frame_width, frame_height))\n",
        "\n",
        "print(\"動画処理を開始します...\")\n",
        "\n",
        "# === メインループ：動画の全フレームを処理 ===\n",
        "# 動画が開いている間、無限ループでフレームを1枚ずつ読み込みます。\n",
        "while cap.isOpened():\n",
        "    # フレームを1枚読み込みます。\n",
        "    ret, frame = cap.read()\n",
        "    # フレームが読み込めなかった場合（動画の終端に達した場合など）はループを終了します。\n",
        "    if not ret:\n",
        "        break\n",
        "\n",
        "    # MediaPipeの処理のために、色空間をBGRからRGBに変換します。\n",
        "    image_rgb = cv2.cvtColor(frame, cv2.COLOR_BGR2RGB)\n",
        "\n",
        "    # 最初の処理として、フレーム全体でポーズ（骨格）を検出します。\n",
        "    # これにより、後で手の位置を特定するための情報（手首の座標）が得られます。\n",
        "    pose_results = pose.process(image_rgb)\n",
        "\n",
        "    # ポーズが検出された場合のみ、以下の処理を実行します。\n",
        "    if pose_results.pose_landmarks:\n",
        "        # ポーズ（骨格）の描画設定を定義します。\n",
        "        # 線の色をオレンジ、点のサイズを小さくします。\n",
        "        pose_spec = mp_drawing.DrawingSpec(color=(0, 0, 255), thickness=1, circle_radius=2)\n",
        "        # 点の色を緑、サイズを少し大きくします。\n",
        "        pose_dot_spec = mp_drawing.DrawingSpec(color=(0, 0, 255), thickness=2, circle_radius=2)\n",
        "\n",
        "        # 検出されたポーズ（骨格）のランドマークと接続線を元のフレームに描画します。\n",
        "        mp_drawing.draw_landmarks(\n",
        "            frame,\n",
        "            pose_results.pose_landmarks,\n",
        "            mp_pose.POSE_CONNECTIONS,\n",
        "            pose_spec,\n",
        "            pose_dot_spec\n",
        "        )\n",
        "\n",
        "        # 左右の手首のランドマークをポーズの検出結果から取得します。\n",
        "        left_wrist = pose_results.pose_landmarks.landmark[mp_pose.PoseLandmark.LEFT_WRIST]\n",
        "        right_wrist = pose_results.pose_landmarks.landmark[mp_pose.PoseLandmark.RIGHT_WRIST]\n",
        "\n",
        "        # 左右の手首それぞれに対してループを回し、個別に手の検出と描画を行います。\n",
        "        for wrist_landmark in [left_wrist, right_wrist]:\n",
        "            # 手首のランドマークの信頼度が0.5より高い(手首が正しく検出できている)場合のみ処理を続行します。\n",
        "            # これにより、誤検出による無駄な処理を防ぎます。\n",
        "            if wrist_landmark.visibility > 0.3:\n",
        "                # ランドマークの正規化された座標（0.0～1.0）です。\n",
        "                # フレームの長さ(ピクセル)を掛けることで実際のピクセル座標に変換します。\n",
        "\n",
        "                center_x = int(wrist_landmark.x * frame_width)\n",
        "                center_y = int(wrist_landmark.y * frame_height)\n",
        "\n",
        "                # 手を検出するために切り抜く領域のサイズを定義します。\n",
        "                size = 200\n",
        "                # 切り抜き領域の左上と右下の座標を計算します。\n",
        "                # max()とmin()を使って、領域がフレームの範囲外に出ないように調整します。\n",
        "                x1 = max(0, center_x - size // 2)\n",
        "                y1 = max(0, center_y - size // 2)\n",
        "                x2 = min(frame_width, center_x + size // 2)\n",
        "                y2 = min(frame_height, center_y + size // 2)\n",
        "\n",
        "                # 計算した座標に基づいて、元のフレームから手の領域を切り抜きます（クロッピング）。\n",
        "                hand_crop = frame[y1:y2, x1:x2]\n",
        "\n",
        "                # 切り抜いた領域が有効（サイズが0より大きい）な場合にのみ、次の処理に進みます。\n",
        "                if hand_crop.size > 0:\n",
        "                    # 切り抜いた画像をRGBに変換し、手のランドマークを再検出します。\n",
        "                    # 小さく映っていた手が拡大されてモデルに渡されるため、検出精度が向上します。\n",
        "                    hand_crop_rgb = cv2.cvtColor(hand_crop, cv2.COLOR_BGR2RGB)\n",
        "                    hands_results = hands.process(hand_crop_rgb)\n",
        "\n",
        "                    # 手が検出された場合のみ描画を行います。\n",
        "                    if hands_results.multi_hand_landmarks:\n",
        "                        for hand_landmarks in hands_results.multi_hand_landmarks:\n",
        "                            # 手のランドマークの描画設定を定義します。\n",
        "                            # 線の色を赤、点のサイズを小さくします。\n",
        "                            hand_spec = mp_drawing.DrawingSpec(color=(0, 0, 255), thickness=1, circle_radius=1)\n",
        "                            # 点の色をシアン、サイズを小さくします。\n",
        "                            hand_dot_spec = mp_drawing.DrawingSpec(color=(0, 0, 255), thickness=2, circle_radius=2)\n",
        "\n",
        "                            # 切り抜いた画像に、手のランドマークと接続線を描画します。\n",
        "                            mp_drawing.draw_landmarks(\n",
        "                                hand_crop,\n",
        "                                hand_landmarks,\n",
        "                                mp_hands.HAND_CONNECTIONS,\n",
        "                                hand_spec,\n",
        "                                hand_dot_spec\n",
        "                            )\n",
        "\n",
        "                            # ランドマークが描画された切り抜き画像を、元のフレームの正しい位置に貼り付け直します。\n",
        "                            frame[y1:y2, x1:x2] = hand_crop\n",
        "\n",
        "    # 処理済みのフレームを出力動画ファイルに書き込みます。\n",
        "    writer.write(frame)\n",
        "\n",
        "# === 後処理 ===\n",
        "# 動画ファイルオブジェクトとモデルを解放し、リソースをクリーンアップします。\n",
        "# これを怠ると、出力動画が破損することがあります。\n",
        "cap.release()\n",
        "writer.release()\n",
        "pose.close()\n",
        "hands.close()\n",
        "\n",
        "print(\"動画処理が完了しました。\")\n",
        "print(f\"'{output_video_path}' に動画が保存されました。\")"
      ],
      "metadata": {
        "colab": {
          "base_uri": "https://localhost:8080/"
        },
        "id": "WArAlUp-HBtn",
        "outputId": "eda9b304-8be4-4eda-8c59-6ac136ca2fa4"
      },
      "execution_count": null,
      "outputs": [
        {
          "output_type": "stream",
          "name": "stdout",
          "text": [
            "動画処理を開始します...\n",
            "動画処理が完了しました。\n",
            "'/content/drive/MyDrive/output/hand_pose_cropped.mp4' に動画が保存されました。\n"
          ]
        }
      ]
    }
  ]
}